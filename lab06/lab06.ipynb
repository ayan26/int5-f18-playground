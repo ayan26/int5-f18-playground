{
 "cells": [
  {
   "cell_type": "markdown",
   "metadata": {},
   "source": [
    "# Lab 6: Group, Join, Conditionals, Iteration, Randomness. \n",
    "## Due Tuesday November 13th, 9:00am"
   ]
  },
  {
   "cell_type": "markdown",
   "metadata": {},
   "source": [
    "Welcome to lab 6! This week, we will get a bit more practice with grouping and joining tables, using iteration and simulations, and practicing the concept of randomness and probability. This material is covered in [Chapter 9](https://www.inferentialthinking.com/chapters/09/randomness.html) and the prior chapters (e.g., [Chapter 8.4](https://www.inferentialthinking.com/chapters/08/4/Joining_Tables_by_Columns))."
   ]
  },
  {
   "cell_type": "code",
   "execution_count": null,
   "metadata": {},
   "outputs": [],
   "source": [
    "# Don't change this cell; just run it. \n",
    "\n",
    "import numpy as np\n",
    "from datascience import *\n",
    "\n",
    "%matplotlib inline\n",
    "import matplotlib.pyplot as plots\n",
    "plots.style.use('fivethirtyeight')\n",
    "\n",
    "from client.api.notebook import Notebook\n",
    "ok = Notebook('lab06.ok')\n",
    "_ = ok.auth(inline=True)"
   ]
  },
  {
   "cell_type": "markdown",
   "metadata": {},
   "source": [
    "**Important**: The `ok` tests don't usually tell you that your answer is correct. More often, they help catch careless mistakes. It's up to you to ensure that your answer is correct. If you're not sure, ask someone (not for the answer, but for some guidance about your approach)."
   ]
  },
  {
   "cell_type": "markdown",
   "metadata": {},
   "source": [
    "## 1. Extravaganza Lineup"
   ]
  },
  {
   "cell_type": "markdown",
   "metadata": {},
   "source": [
    "Every spring, UCSB hosts Extravaganza, a one-day on-campus music festival. The following questions are based on last year's festival. The AS Program Board (an on-campus organization tasked with organizing entertainment events) sends out a survey to UCSB students asking for their suggestions for music artists. The instructions in the survey specify that each student should select a first choice artist (rank 1), a second choice artist (rank 2), and a third choice artist (rank 3). Run the following cell to see how the first several students responded."
   ]
  },
  {
   "cell_type": "code",
   "execution_count": null,
   "metadata": {},
   "outputs": [],
   "source": [
    "survey = Table().read_table(\"survey.csv\")\n",
    "survey"
   ]
  },
  {
   "cell_type": "markdown",
   "metadata": {},
   "source": [
    "After these responses come in, however, the AS Program Board notices that their survey form does not actually enforce that each participant choose a single first choice artist, a single second choice artist, and a single third choice artist. Run the cell below to see an example of a student who did not follow the survey's instructions. "
   ]
  },
  {
   "cell_type": "code",
   "execution_count": null,
   "metadata": {
    "scrolled": true
   },
   "outputs": [],
   "source": [
    "survey.where(\"Perm Number\", are.equal_to(5978341))"
   ]
  },
  {
   "cell_type": "markdown",
   "metadata": {},
   "source": [
    "The AS Program Board decides to identify all students who did not follow the survey's instructions, delete their votes from the table, and email the students to tell them that their votes did not comply with the rules, and that they should revote if they want to have a say in the Extravaganza lineup. \n",
    "\n",
    "The email addreses of all students are available in the student database, a portion of which is displayed in the table below."
   ]
  },
  {
   "cell_type": "code",
   "execution_count": null,
   "metadata": {},
   "outputs": [],
   "source": [
    "database = Table().read_table(\"student_data.csv\")\n",
    "database"
   ]
  },
  {
   "cell_type": "markdown",
   "metadata": {},
   "source": [
    "**Question 1.1**  Use the survey data and the student database information to identify the students who did not follow the survey's instructions. Make an array called `violators` that contains the email address of all students who did not follow the survey's instructions. \n",
    "\n",
    "**Hint 1:** *Use the `group` command with second argument `list` to see how each student voted.*\n",
    "\n",
    "**Hint 2:** *Sort the data so that each student who voted correctly has a rank list that looks like `[1, 2, 3]`.*"
   ]
  },
  {
   "cell_type": "code",
   "execution_count": null,
   "metadata": {},
   "outputs": [],
   "source": [
    "violators = ...\n",
    "violators"
   ]
  },
  {
   "cell_type": "code",
   "execution_count": null,
   "metadata": {},
   "outputs": [],
   "source": [
    "_ = ok.grade('q1_1')"
   ]
  },
  {
   "cell_type": "markdown",
   "metadata": {},
   "source": [
    "**Question 1.2** Now delete the rows from the table `survey` that correspond to the voters in `violators`. After this, the table `survey` should have only valid votes in it."
   ]
  },
  {
   "cell_type": "code",
   "execution_count": null,
   "metadata": {},
   "outputs": [],
   "source": [
    "survey = ...\n",
    "survey"
   ]
  },
  {
   "cell_type": "code",
   "execution_count": null,
   "metadata": {},
   "outputs": [],
   "source": [
    "_ = ok.grade('q1_2')"
   ]
  },
  {
   "cell_type": "markdown",
   "metadata": {},
   "source": [
    "After months of collecting votes and contacting artists, the 2017-18 UC Santa Barbara Extravaganza lineup has officially been released! Run the following cell to see a table of the scheduled performers and their respective numbers of Instagram followers (in thousands)."
   ]
  },
  {
   "cell_type": "code",
   "execution_count": null,
   "metadata": {},
   "outputs": [],
   "source": [
    "extravaganza_performers = [\"Dillon Francis\", \"Charli XCX\", \"Cardi B\", \"Coast Modern\"]\n",
    "extravaganza_instagram = [2105, 3101, 35100, 15.5]\n",
    "\n",
    "extravaganza_lineup = Table().with_columns(\"Artists\", extravaganza_performers, \"Instagram\", extravaganza_instagram)\n",
    "extravaganza_lineup.show()"
   ]
  },
  {
   "cell_type": "markdown",
   "metadata": {},
   "source": [
    "As we come closer to the event, we get word that one of the performers is unable to make it to Extravaganza, and has been replaced by another performer instead! Run the following cell to see a table of the new lineup and their respective numbers of Twitter followers (in thousands)."
   ]
  },
  {
   "cell_type": "code",
   "execution_count": null,
   "metadata": {},
   "outputs": [],
   "source": [
    "new_performers = [\"Dillon Francis\", \"Charli XCX\", \"DRAM\", \"Coast Modern\"]\n",
    "new_twitter = [1057, 3249, 123, 8]\n",
    "\n",
    "new_lineup = Table().with_columns(\"Performers\", new_performers, \"Twitter\", new_twitter)\n",
    "new_lineup.show()"
   ]
  },
  {
   "cell_type": "markdown",
   "metadata": {},
   "source": [
    "**Question 1.3** Use the `join` method to join these two tables together so each row contains the name of the performer, their number of Instagram followers (in thousands), and their number of Twitter followers (in thousands). Save this new table into the variable `lineup_data`."
   ]
  },
  {
   "cell_type": "code",
   "execution_count": null,
   "metadata": {},
   "outputs": [],
   "source": [
    "lineup_data = ...\n",
    "lineup_data"
   ]
  },
  {
   "cell_type": "code",
   "execution_count": null,
   "metadata": {},
   "outputs": [],
   "source": [
    "_ = ok.grade('q1_3')"
   ]
  },
  {
   "cell_type": "markdown",
   "metadata": {},
   "source": [
    "**Question 1.4** You should notice that a couple of artists are missing. Which ones are missing and why are they not in the new table?"
   ]
  },
  {
   "cell_type": "markdown",
   "metadata": {},
   "source": [
    "<hr style=\"color:Maroon;background-color:Maroon;border:0 none; height: 3px;\">\n",
    "Replace this text with your answer\n",
    "<hr style=\"color:Maroon;background-color:Maroon;border:0 none; height: 3px;\">"
   ]
  },
  {
   "cell_type": "markdown",
   "metadata": {},
   "source": [
    "**Question 1.5** Let's add `DRAM` back into the `lineup_data` table so that we can see all the artists who actually performed at Extravaganza last year. DRAM currently has 294.8 thousand Instagram followers and 122.5 thousand Twitter followers."
   ]
  },
  {
   "cell_type": "code",
   "execution_count": null,
   "metadata": {},
   "outputs": [],
   "source": [
    "lineup_data = ...\n",
    "lineup_data"
   ]
  },
  {
   "cell_type": "code",
   "execution_count": null,
   "metadata": {},
   "outputs": [],
   "source": [
    "_ = ok.grade('q1_5')"
   ]
  },
  {
   "cell_type": "markdown",
   "metadata": {},
   "source": [
    "## 2. Getting Hold of Your Friend"
   ]
  },
  {
   "cell_type": "markdown",
   "metadata": {},
   "source": [
    "You are excited to go to Extravaganza but you don't want to go alone! You are trying to get a hold of your friend to see if they want to go to Extravaganza with you. However, each time you call your friend, the probability that they answer their phone is 1⁄3. If you call your friend two times today, what is the chance that you will talk to them?"
   ]
  },
  {
   "cell_type": "markdown",
   "metadata": {},
   "source": [
    "Here is the equation to help you find the probability:\n",
    "\n",
    "$$P(reaching\\ your\\ friend\\ at\\ least\\ once\\ in\\ N\\ times) = 1 - P(not\\ reaching\\ your\\ friend\\ all\\ N\\ times)$$\n",
    "\n",
    "You can find out more about this equation in the textbook [here](https://www.inferentialthinking.com/chapters/09/5/Finding_Probabilities#at-least-one-success) under \"At Least One Success\" for an example on the probability of rolling a 6 on a die. "
   ]
  },
  {
   "cell_type": "markdown",
   "metadata": {},
   "source": [
    "**Question 2.1** Let's first calculate the probability that your friend will not answer the phone both times you call them."
   ]
  },
  {
   "cell_type": "code",
   "execution_count": null,
   "metadata": {},
   "outputs": [],
   "source": [
    "no_answer = ...\n",
    "no_answer"
   ]
  },
  {
   "cell_type": "code",
   "execution_count": null,
   "metadata": {},
   "outputs": [],
   "source": [
    "_ = ok.grade('q2_1')"
   ]
  },
  {
   "cell_type": "markdown",
   "metadata": {},
   "source": [
    "**Question 2.2** Now that we have the probability of your friend not answering both times, let's calculate the probability that you will reach your friend at least once out of the two calls (using the formula from above)."
   ]
  },
  {
   "cell_type": "code",
   "execution_count": null,
   "metadata": {},
   "outputs": [],
   "source": [
    "answered = ...\n",
    "answered"
   ]
  },
  {
   "cell_type": "code",
   "execution_count": null,
   "metadata": {},
   "outputs": [],
   "source": [
    "_ = ok.grade('q2_2')"
   ]
  },
  {
   "cell_type": "markdown",
   "metadata": {},
   "source": [
    "## 3. Memes"
   ]
  },
  {
   "cell_type": "markdown",
   "metadata": {},
   "source": [
    "<img src=\"silicon-meme.jpg\" width=40%><img src=\"reaction-meme.jpg\" width=40%>"
   ]
  },
  {
   "cell_type": "markdown",
   "metadata": {
    "collapsed": true
   },
   "source": [
    "Twitter has just hired you to analyze some of its most popular memes! Run the following cell to see a table of information on recent Twitter posts that contained memes of certain popular formats. For each Twitter post, the table contains\n",
    "* The format of the meme in the post. For example, the format *Chemistry Cat* shows a cat dressed up as a scientist in a chemistry lab. The sign above shows a question that is answered below with a witty comment involving a chemical element or a chemistry concept. Two examples of a meme in this format are shown above.\n",
    "* The Twitter handle (username) of the person who made the post.\n",
    "* The number of retweets (shares).\n",
    "* The number of likes.\n",
    "* The number of days from when the post was generated to when you got the dataset.\n"
   ]
  },
  {
   "cell_type": "code",
   "execution_count": null,
   "metadata": {},
   "outputs": [],
   "source": [
    "memes = Table.read_table('memes.csv')\n",
    "memes.show()"
   ]
  },
  {
   "cell_type": "markdown",
   "metadata": {},
   "source": [
    "**Question 3.1** Twitter is interested in determining which meme formats get the most retweets and likes. Calculate the total number of retweets and likes associated with each of the meme formats, and save a table of these results in a variable called `retweets_likes`. Your table should have three columns, containing, from left to right:\n",
    "* The format of the meme.\n",
    "* The total number of retweets for all memes with this format.\n",
    "* The total number of likes for all memes with this format."
   ]
  },
  {
   "cell_type": "code",
   "execution_count": null,
   "metadata": {},
   "outputs": [],
   "source": [
    "retweets_likes = ...\n",
    "retweets_likes"
   ]
  },
  {
   "cell_type": "code",
   "execution_count": null,
   "metadata": {},
   "outputs": [],
   "source": [
    "_ = ok.grade('q3_1')"
   ]
  },
  {
   "cell_type": "markdown",
   "metadata": {},
   "source": [
    "**Question 3.2** The total number of retweets and likes should be taken relative to the number of days since the meme was posted, because memes that have been posted for longer will naturally have more of a chance to gather retweets and likes. For each meme format, calculate the number of days since a meme of that format was first posted, and add a column with these results to the table `retweets_likes`, saving your new table in a variable called `retweets_likes_age`."
   ]
  },
  {
   "cell_type": "code",
   "execution_count": null,
   "metadata": {},
   "outputs": [],
   "source": [
    "retweets_likes_age = ...\n",
    "retweets_likes_age"
   ]
  },
  {
   "cell_type": "code",
   "execution_count": null,
   "metadata": {},
   "outputs": [],
   "source": [
    "_ = ok.grade('q3_2')"
   ]
  },
  {
   "cell_type": "markdown",
   "metadata": {},
   "source": [
    "**Question 3.3** Rank the meme formats by popularity, where the popularity of a meme format is measured as the total number of retweets and likes per day since the meme format was originally posted.\n",
    "\n",
    "Create an array called `popular_memes` that contains the meme formats ranked by popularity, so that the most popular meme is first in the array, and the least popular meme is last."
   ]
  },
  {
   "cell_type": "code",
   "execution_count": null,
   "metadata": {},
   "outputs": [],
   "source": [
    "popular_memes = ...\n",
    "popular_memes"
   ]
  },
  {
   "cell_type": "code",
   "execution_count": null,
   "metadata": {},
   "outputs": [],
   "source": [
    "_ = ok.grade('q3_3')"
   ]
  },
  {
   "cell_type": "markdown",
   "metadata": {},
   "source": [
    "## 4. Yahtzee "
   ]
  },
  {
   "cell_type": "markdown",
   "metadata": {},
   "source": [
    "In the dice game Yahtzee, players roll and reroll dice, trying to meet certain objectives. A player rolls five dice on the first roll, and after looking at the results, *can choose to* reroll any number of them on the second roll. Similarly, after looking at the results of the second roll, the player can choose to reroll any number of those for the third roll. After the third roll, no more rolling is allowed.\n",
    "\n",
    "One objective in Yahtzee is to roll as many 6's as possible. The standard strategy is as follows:\n",
    "* Roll all five dice.\n",
    "* Keep any that are 6's. Reroll all other dice.\n",
    "* Keep any that are 6's. Reroll all other dice.\n",
    "The number of 6's at the end of this process determined the player's score. "
   ]
  },
  {
   "cell_type": "markdown",
   "metadata": {},
   "source": [
    "**Question 4.1** Create an array called `my_dice` that contains the results of a first Yahtzee roll (that is, five random numbers between 1 and 6)."
   ]
  },
  {
   "cell_type": "code",
   "execution_count": null,
   "metadata": {},
   "outputs": [],
   "source": [
    "my_dice = ...\n",
    "my_dice"
   ]
  },
  {
   "cell_type": "code",
   "execution_count": null,
   "metadata": {},
   "outputs": [],
   "source": [
    "_ = ok.grade('q4_1')"
   ]
  },
  {
   "cell_type": "markdown",
   "metadata": {},
   "source": [
    "**Question 4.2** Define a function called `reroll()` that takes no inputs and does not return any value, but changes the contents of `my_dice` to show the results after one additional roll. Your function should implement the standard strategy for rolling 6's, that is, keep all dice that were a 6 and reroll all other dice.\n",
    "\n",
    "**Hint** *You can test out your function by repeatedly rerolling. Since you are keeping all the 6's you ever roll, eventually you should get all 6's by repeatedly rerolling.*"
   ]
  },
  {
   "cell_type": "code",
   "execution_count": null,
   "metadata": {},
   "outputs": [],
   "source": [
    "def reroll():\n",
    "    ...\n",
    "        \n",
    "reroll()\n",
    "my_dice"
   ]
  },
  {
   "cell_type": "markdown",
   "metadata": {},
   "source": [
    "Now, practice taking a complete turn at Yahtzee, and see how many 6's you can get! Re-run the code cell from Question 4.1 to roll new dice. Then use your `reroll()` function twice, and calculate the number of 6's you have at the end of your turn. "
   ]
  },
  {
   "cell_type": "code",
   "execution_count": null,
   "metadata": {},
   "outputs": [],
   "source": [
    "# Practice taking a turn here. How many 6's did you get?\n"
   ]
  },
  {
   "cell_type": "markdown",
   "metadata": {},
   "source": [
    "**Question 4.3** Now, use a `for` loop to help you take 100,000 turns at Yahtzee. On each turn, you should roll the dice, reroll them twice, and calculate the number of 6's you have at the end of your turn. Create an array called `sixes` that contains the number of 6's you had at the end of each turn. This array should have 100,000 entries.\n",
    "\n",
    "**Hint** Try taking 10 turns with a `for` loop. Once you are sure you have that figured out, change it to 100,000 turns. It will take a little while (about a minute) for Python to perform the calculations when you are doing 100,000 turns.\n",
    "\n",
    "**Hint** You may need more than one `for` loop. (Try using a nested `for` loop)."
   ]
  },
  {
   "cell_type": "code",
   "execution_count": null,
   "metadata": {},
   "outputs": [],
   "source": [
    "sixes = ...    \n",
    "sixes"
   ]
  },
  {
   "cell_type": "code",
   "execution_count": null,
   "metadata": {},
   "outputs": [],
   "source": [
    "_ = ok.grade('q4_3')"
   ]
  },
  {
   "cell_type": "markdown",
   "metadata": {},
   "source": [
    "**Question 4.4** Use the data you have collected to approximate the number of 6's would you expect to get in one turn using this strategy. Store your result in a variable called `expected_sixes.` \n",
    "\n",
    "Note that this does not need to be a whole number. For example, if you collected data by repeatedly flipping three coins, you would say that the expected number of heads you see is about 1.5."
   ]
  },
  {
   "cell_type": "code",
   "execution_count": null,
   "metadata": {},
   "outputs": [],
   "source": [
    "expected_sixes = ...\n",
    "expected_sixes"
   ]
  },
  {
   "cell_type": "code",
   "execution_count": null,
   "metadata": {},
   "outputs": [],
   "source": [
    "_ = ok.grade('q4_4')"
   ]
  },
  {
   "cell_type": "markdown",
   "metadata": {},
   "source": [
    "**Question 4.5** Use the data you have collected to approximate the most commonly rolled number of 6's when taking a single turn using this strategy. Store your result in a variable called `most_common_sixes.`\n",
    "\n",
    "Note that this does need to be a whole number, because it is not very common at all to roll a non-integer number of sixes in a single turn of Yahtzee."
   ]
  },
  {
   "cell_type": "code",
   "execution_count": null,
   "metadata": {},
   "outputs": [],
   "source": [
    "most_common_sixes = ...\n",
    "most_common_sixes"
   ]
  },
  {
   "cell_type": "code",
   "execution_count": null,
   "metadata": {},
   "outputs": [],
   "source": [
    "_ = ok.grade('q4_5')"
   ]
  },
  {
   "cell_type": "markdown",
   "metadata": {},
   "source": [
    "Congratulations, you completed Lab 6!\n",
    "\n",
    "To submit:\n",
    "\n",
    "1. Select `Run All` from the `Cell` menu to ensure that you have executed all cells, including the test cells. \n",
    "2. **Save and Checkpoint** from the `File` menu,\n",
    "3. Read through the notebook to make sure everything is fine.\n",
    "4. Submit using the cell below."
   ]
  },
  {
   "cell_type": "code",
   "execution_count": null,
   "metadata": {},
   "outputs": [],
   "source": [
    "_ = ok.submit()"
   ]
  }
 ],
 "metadata": {
  "kernelspec": {
   "display_name": "Python 3",
   "language": "python",
   "name": "python3"
  },
  "language_info": {
   "codemirror_mode": {
    "name": "ipython",
    "version": 3
   },
   "file_extension": ".py",
   "mimetype": "text/x-python",
   "name": "python",
   "nbconvert_exporter": "python",
   "pygments_lexer": "ipython3",
   "version": "3.6.4"
  }
 },
 "nbformat": 4,
 "nbformat_minor": 2
}
